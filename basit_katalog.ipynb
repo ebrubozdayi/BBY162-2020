{
  "nbformat": 4,
  "nbformat_minor": 0,
  "metadata": {
    "colab": {
      "name": "basit_katalog.ipynb",
      "provenance": [],
      "private_outputs": true,
      "authorship_tag": "ABX9TyO+KHoGY7rekqIKx3+wU0tl",
      "include_colab_link": true
    },
    "kernelspec": {
      "name": "python3",
      "display_name": "Python 3"
    }
  },
  "cells": [
    {
      "cell_type": "markdown",
      "metadata": {
        "id": "view-in-github",
        "colab_type": "text"
      },
      "source": [
        "<a href=\"https://colab.research.google.com/github/ebrubozdayi/BBY162-2020/blob/master/basit_katalog.ipynb\" target=\"_parent\"><img src=\"https://colab.research.google.com/assets/colab-badge.svg\" alt=\"Open In Colab\"/></a>"
      ]
    },
    {
      "cell_type": "code",
      "metadata": {
        "id": "jc3nk0pKvVNf",
        "colab_type": "code",
        "colab": {}
      },
      "source": [
        "from google.colab import drive\n",
        "drive.mount('/gdrive')\n",
        "\n",
        "dosya = \"/gdrive/My Drive/Colab Notebooks/BBY162 - Programlama ve Algoritmalar/kitap_listesi.txt\"\n",
        "\n",
        "\n",
        "f = open(dosya, \"a\")\n",
        "bilgi= input(\"kitap adı\")\n",
        "f.write(bilgi+\"\\n\")\n",
        "bilgi=input(\"yazar adı\")\n",
        "f.write(bilgi+\"\\n\")\n",
        "bilgi=input(\"basım yılı\") \n",
        "f.write(bilgi+\"\\n\")\n",
        "f.close()\n",
        "f = open(dosya, \"r\") \n",
        "\n",
        "for line in f.readlines():\n",
        "    print(line)\n",
        "\n",
        "f.close()\n",
        "\n"
      ],
      "execution_count": 0,
      "outputs": []
    }
  ]
}