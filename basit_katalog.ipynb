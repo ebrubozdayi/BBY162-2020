{
  "nbformat": 4,
  "nbformat_minor": 0,
  "metadata": {
    "colab": {
      "name": "basit_katalog.ipynb",
      "provenance": [],
      "private_outputs": true,
      "authorship_tag": "ABX9TyOBrN13F7zrjwnmsVG/dJrN",
      "include_colab_link": true
    },
    "kernelspec": {
      "name": "python3",
      "display_name": "Python 3"
    }
  },
  "cells": [
    {
      "cell_type": "markdown",
      "metadata": {
        "id": "view-in-github",
        "colab_type": "text"
      },
      "source": [
        "<a href=\"https://colab.research.google.com/github/ebrubozdayi/BBY162-2020/blob/master/basit_katalog.ipynb\" target=\"_parent\"><img src=\"https://colab.research.google.com/assets/colab-badge.svg\" alt=\"Open In Colab\"/></a>"
      ]
    },
    {
      "cell_type": "code",
      "metadata": {
        "id": "jc3nk0pKvVNf",
        "colab_type": "code",
        "colab": {}
      },
      "source": [
        "from google.colab import drive\n",
        "drive.mount('/gdrive')\n",
        "\n",
        "dosya = \"/gdrive/My Drive/Colab Notebooks/BBY162 - Programlama ve Algoritmalar/kitap_listesi.txt\"\n",
        "\n",
        "def kitaplarıListele():\n",
        "  f=open(dosya, \"r\")\n",
        "  print(f.read())\n",
        "  f.close()\n",
        "\n",
        "def kitapEkle():\n",
        "  print(\"*Kataloğa ekleme yapmak için kullanıcı adınızı ve şifrenizi giriniz!*\")\n",
        "  kullanıcıAdi= \"kullanıcı\"\n",
        "  sifre= \"123123\"\n",
        "  girilenKulAdi= input(\"Kullanıcı adınızı giriniz: \")\n",
        "  girilenSifre= input(\"Şifrenizi giriniz: \")\n",
        "  if kullanıcıAdi == girilenKulAdi and sifre == girilenSifre :\n",
        "    print(\"Kataloğunuza kitap ekleyebilirsiniz.\")\n",
        "f=open(dosya, \"a\")\n",
        "kitapAdı= input(\"kitap adını giriniz\")\n",
        "yazarAdı=input(\"yazar adını giriniz\")\n",
        "basımYılı=input(\"basım yılını giriniz\") \n",
        "ısbnNo=input(\"ISBN no giriniz\")\n",
        "yayınYeri=input(\"yayın yerini giriniz\")\n",
        "yayınEvi=input(\"yayın evini giriniz\")\n",
        "f.write(kitapAdı + \"|\" + yazarAdı + \"|\" + basımYılı + \"|\" + ısbnNo + \"|\" + yayınYeri + \"|\" + yayınEvi + \"\\n\")\n",
        "f.close()\n",
        "f = open(dosya, \"r\") \n",
        "\n",
        "for line in f.readlines():\n",
        "    print(line)\n",
        "\n",
        "f.close()\n",
        "for i in range(20):\n",
        "  kitap_listesi()\n",
        "\n"
      ],
      "execution_count": 0,
      "outputs": []
    }
  ]
}