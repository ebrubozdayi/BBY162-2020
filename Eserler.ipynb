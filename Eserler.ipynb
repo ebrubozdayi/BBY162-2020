{
  "nbformat": 4,
  "nbformat_minor": 0,
  "metadata": {
    "colab": {
      "name": "Eserler.ipynb",
      "provenance": [],
      "private_outputs": true,
      "authorship_tag": "ABX9TyOpXKFz9EqlY3wb3EieuzBe",
      "include_colab_link": true
    },
    "kernelspec": {
      "name": "python3",
      "display_name": "Python 3"
    }
  },
  "cells": [
    {
      "cell_type": "markdown",
      "metadata": {
        "id": "view-in-github",
        "colab_type": "text"
      },
      "source": [
        "<a href=\"https://colab.research.google.com/github/ebrubozdayi/BBY162-2020/blob/master/Eserler.ipynb\" target=\"_parent\"><img src=\"https://colab.research.google.com/assets/colab-badge.svg\" alt=\"Open In Colab\"/></a>"
      ]
    },
    {
      "cell_type": "markdown",
      "metadata": {
        "id": "38LvwykkM3Ac",
        "colab_type": "text"
      },
      "source": [
        ""
      ]
    },
    {
      "cell_type": "markdown",
      "metadata": {
        "id": "GUS2q1GGM5Xu",
        "colab_type": "text"
      },
      "source": [
        "1 Korluk *** Jose Saramago *** 1995\n",
        "2 Bin Muhtesem Gunes *** Khaled Hosseini *** 2007\n",
        "3 Serenad *** Zulfu Liveneli **** 2011\n",
        "4 Suç ve Ceza **** Dostoyevski *** 1866\n",
        "5 Nutuk *** Mustafa Kemal Ataturk *** 1927\n",
        "\n",
        "\n"
      ]
    }
  ]
}