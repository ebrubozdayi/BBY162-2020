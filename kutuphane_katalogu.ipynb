{
  "nbformat": 4,
  "nbformat_minor": 0,
  "metadata": {
    "colab": {
      "name": "kutuphane_katalogu.ipynb",
      "provenance": [],
      "private_outputs": true,
      "authorship_tag": "ABX9TyP9wc6cbKfYBeQoh13lTEb3",
      "include_colab_link": true
    },
    "kernelspec": {
      "name": "python3",
      "display_name": "Python 3"
    }
  },
  "cells": [
    {
      "cell_type": "markdown",
      "metadata": {
        "id": "view-in-github",
        "colab_type": "text"
      },
      "source": [
        "<a href=\"https://colab.research.google.com/github/ebrubozdayi/BBY162-2020/blob/master/kutuphane_katalogu.ipynb\" target=\"_parent\"><img src=\"https://colab.research.google.com/assets/colab-badge.svg\" alt=\"Open In Colab\"/></a>"
      ]
    },
    {
      "cell_type": "code",
      "metadata": {
        "id": "HSTDCUj7TiUd",
        "colab_type": "code",
        "colab": {}
      },
      "source": [
        "from google.colab import drive\n",
        "drive.mount('/gdrive')\n",
        "\n",
        "dosya = \"/gdrive/My Drive/Colab Notebooks/BBY162 - Programlama ve Algoritmalar/veritabanii.txt\"\n",
        "\n",
        "def kitaplarıListele():\n",
        "  f=open(dosya, \"r\")\n",
        "  for line in f.readlines():\n",
        "    print(line)\n",
        "  f.close()\n",
        "\n",
        "def kitapEkle():\n",
        " print()\n",
        "f=open(dosya, \"a\")\n",
        "kitapAdı= input(\"kitap adını giriniz\")\n",
        "yazarAdı=input(\"yazar adını giriniz\")\n",
        "basımYılı=input(\"basım yılını giriniz\") \n",
        "ısbnNo=input(\"ISBN no giriniz\")\n",
        "yayınYeri=input(\"yayın yerini giriniz\")\n",
        "yayınEvi=input(\"yayın evini giriniz\")\n",
        "f.write(kitapAdı + \"|\" + yazarAdı + \"|\" + basımYılı + \"|\" + ısbnNo + \"|\" + yayınYeri + \"|\" + yayınEvi + \"\\n\")\n",
        "f.close()\n",
        "\n",
        "def ara(veritabanii,kelime = str,arama_sekli = int):\n",
        "    sonuc = []\n",
        "    for kitap  in veritabanii:\n",
        "        if kitap[arama] == kelime:\n",
        "            sonuc = kitap\n",
        "            break\n",
        "    return sonuc\n",
        "\n",
        "def sil(veritabanii):\n",
        " print()\n",
        "import os\n",
        "os.remove(\"veritabanii.txt\")\n",
        "\n",
        "def guncelle():\n",
        "  print()\n",
        "\n",
        "  \n",
        "\n",
        "islemler= 0\n",
        "while not islemler ==5:\n",
        "\n",
        "  print(\"yapacğınız işleme uygun bir sayı giriniz!\")\n",
        "  print(\"yapacağınız işlem kitapları listelemek ise '1' yazınız!\")\n",
        "  print(\"Yapacağınız işlem kataloğa yeni bir kitap eklemek ise '2' yazınız!\")\n",
        "  print(\"Yapacağınız işlem arama yapmak ise '3' yazınız!\") \n",
        "  print(\"Yapacağınız işlem kitapları silmek ise '4' yazınız!\")\n",
        "  print(\"Yapacğınız işlem güncelleme ise '5' yazınız!\")\n",
        "\n",
        "  \n",
        "  islemler= int(input(\"Yapmak istediğiniz işleme uygun sayıyı giriniz: \"))\n",
        "  if islemler == 1:\n",
        "    kitaplarıListele()\n",
        "  elif islemler == 2:\n",
        "    kitapEkle()\n",
        "  elif islemler == 3:\n",
        "    ara()\n",
        "  elif islemler == 4:\n",
        "    sil()\n",
        "  elif islemler == 5:\n",
        "    guncelle()\n",
        "    break\n",
        "  else :\n",
        "    print(\"hatalı işlem yaptınız!\")\n",
        "    continue\n",
        "\n"
      ],
      "execution_count": 0,
      "outputs": []
    }
  ]
}