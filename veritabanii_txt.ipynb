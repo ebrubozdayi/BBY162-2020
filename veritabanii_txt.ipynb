{
  "nbformat": 4,
  "nbformat_minor": 0,
  "metadata": {
    "colab": {
      "name": "veritabanii.txt",
      "provenance": [],
      "private_outputs": true,
      "authorship_tag": "ABX9TyP7r3H9o8mV+WomZzTuSrIN",
      "include_colab_link": true
    },
    "kernelspec": {
      "name": "python3",
      "display_name": "Python 3"
    }
  },
  "cells": [
    {
      "cell_type": "markdown",
      "metadata": {
        "id": "view-in-github",
        "colab_type": "text"
      },
      "source": [
        "<a href=\"https://colab.research.google.com/github/ebrubozdayi/BBY162-2020/blob/master/veritabanii_txt.ipynb\" target=\"_parent\"><img src=\"https://colab.research.google.com/assets/colab-badge.svg\" alt=\"Open In Colab\"/></a>"
      ]
    },
    {
      "cell_type": "markdown",
      "metadata": {
        "id": "j4AhTJvjlbCF",
        "colab_type": "text"
      },
      "source": [
        "\"1.eserAdı| yazarAdı| yayınYılı| ISBN| yayınYeri | yayınEvi\n",
        "\"  \"2.Korluk |Jose Saramago | 1995 | 978452154327 | istanbul| kırmızıkedi\n",
        "\"  \"3.Bin Muhtesem Gunes | Khaled Hosseini | 2010 |9876435261796 | istanbul | kırmızıkedi\n",
        "\"  \"4.Serenad | Zulfu Livaneli | 2011 | 97684532456 | İstanbul| Kırmızıkedi\n",
        "\" \"5.Suc ve Ceza | Dostoyevski | 2010 | 97658436712 | İstanbul | kırızıkedi\n",
        "\"  \"6.Nutuk | Mustafa Kemal Ataturk | 2012 | 978645378391 | istanbul | iş bankası kültür yayını\n",
        "\" \"7. Bir cokusun oykusu | stefan zweig |2017 | 9786053329527 | İstanbul | İş bankası kültür yayınları\n",
        "\" \"8. milena\"ya mektuplar | Franz Kafka | 2013 | 97846537823 | istanbul | Panama yayıncılık\n",
        "\" \"9. kuyucaklı yusuf | Sabahattin Ali | 2001 |  9789750800016 | istanbul | Yapı kredi yayınları\n",
        "\" \"10. Kucuk mucizeler dukkani | Debbie Macomber | 2011 | 9786055420314 | İstanbul | Martı yayınları\n",
        "\" \"11. Vurun Kahpeye | Halide Edip Adıvar | 2016 | 9789750721670 | İstanbul | Can yayınları"
      ]
    }
  ]
}